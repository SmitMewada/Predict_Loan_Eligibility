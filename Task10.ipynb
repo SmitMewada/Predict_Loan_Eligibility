{
 "cells": [
  {
   "cell_type": "markdown",
   "id": "00ff7c39",
   "metadata": {},
   "source": [
    "# Task 10: Benchmark Top ML Algorithms"
   ]
  },
  {
   "cell_type": "markdown",
   "id": "f6a3f2eb",
   "metadata": {},
   "source": [
    "## 1. Libraries and Dependencies"
   ]
  },
  {
   "cell_type": "code",
   "execution_count": 394,
   "id": "4d975c3e",
   "metadata": {},
   "outputs": [],
   "source": [
    "import numpy as np\n",
    "import pandas as pd\n",
    "import seaborn as sns\n",
    "import matplotlib.pyplot as plt\n",
    "from sklearn.experimental import enable_iterative_imputer\n",
    "from sklearn.impute import SimpleImputer\n",
    "from sklearn.impute import IterativeImputer\n",
    "from sklearn.model_selection import train_test_split, GridSearchCV\n",
    "from sklearn.metrics import accuracy_score, classification_report\n",
    "from sklearn.linear_model import LogisticRegression\n",
    "from sklearn.tree import DecisionTreeClassifier\n",
    "from sklearn.svm import SVC\n",
    "from imblearn.over_sampling import SMOTE\n",
    "from sklearn.preprocessing import StandardScaler\n",
    "%matplotlib inline"
   ]
  },
  {
   "cell_type": "markdown",
   "id": "d72ab638",
   "metadata": {},
   "source": [
    "## 2. Data Loader"
   ]
  },
  {
   "cell_type": "code",
   "execution_count": 288,
   "id": "d0faa101",
   "metadata": {},
   "outputs": [],
   "source": [
    "def data_loader():\n",
    "    df_train = pd.read_csv(\"loan_train.csv\")\n",
    "    return df_train\n",
    "\n",
    "df_train = data_loader()"
   ]
  },
  {
   "cell_type": "markdown",
   "id": "00ec056a",
   "metadata": {},
   "source": [
    "## 3. Data Exploration"
   ]
  },
  {
   "cell_type": "code",
   "execution_count": 289,
   "id": "edc21e91",
   "metadata": {},
   "outputs": [
    {
     "data": {
      "text/plain": [
       "(614, 13)"
      ]
     },
     "execution_count": 289,
     "metadata": {},
     "output_type": "execute_result"
    }
   ],
   "source": [
    "df_train.shape"
   ]
  },
  {
   "cell_type": "markdown",
   "id": "3f2ab48c",
   "metadata": {},
   "source": [
    "We have 614 rows and 13 features."
   ]
  },
  {
   "cell_type": "code",
   "execution_count": 290,
   "id": "360ab6f7",
   "metadata": {},
   "outputs": [
    {
     "data": {
      "text/html": [
       "<div>\n",
       "<style scoped>\n",
       "    .dataframe tbody tr th:only-of-type {\n",
       "        vertical-align: middle;\n",
       "    }\n",
       "\n",
       "    .dataframe tbody tr th {\n",
       "        vertical-align: top;\n",
       "    }\n",
       "\n",
       "    .dataframe thead th {\n",
       "        text-align: right;\n",
       "    }\n",
       "</style>\n",
       "<table border=\"1\" class=\"dataframe\">\n",
       "  <thead>\n",
       "    <tr style=\"text-align: right;\">\n",
       "      <th></th>\n",
       "      <th>Loan_ID</th>\n",
       "      <th>Gender</th>\n",
       "      <th>Married</th>\n",
       "      <th>Dependents</th>\n",
       "      <th>Education</th>\n",
       "      <th>Self_Employed</th>\n",
       "      <th>ApplicantIncome</th>\n",
       "      <th>CoapplicantIncome</th>\n",
       "      <th>LoanAmount</th>\n",
       "      <th>Loan_Amount_Term</th>\n",
       "      <th>Credit_History</th>\n",
       "      <th>Property_Area</th>\n",
       "      <th>Loan_Status</th>\n",
       "    </tr>\n",
       "  </thead>\n",
       "  <tbody>\n",
       "    <tr>\n",
       "      <th>0</th>\n",
       "      <td>LP001002</td>\n",
       "      <td>Male</td>\n",
       "      <td>No</td>\n",
       "      <td>0</td>\n",
       "      <td>Graduate</td>\n",
       "      <td>No</td>\n",
       "      <td>5849</td>\n",
       "      <td>0.0</td>\n",
       "      <td>NaN</td>\n",
       "      <td>360.0</td>\n",
       "      <td>1.0</td>\n",
       "      <td>Urban</td>\n",
       "      <td>Y</td>\n",
       "    </tr>\n",
       "    <tr>\n",
       "      <th>1</th>\n",
       "      <td>LP001003</td>\n",
       "      <td>Male</td>\n",
       "      <td>Yes</td>\n",
       "      <td>1</td>\n",
       "      <td>Graduate</td>\n",
       "      <td>No</td>\n",
       "      <td>4583</td>\n",
       "      <td>1508.0</td>\n",
       "      <td>128.0</td>\n",
       "      <td>360.0</td>\n",
       "      <td>1.0</td>\n",
       "      <td>Rural</td>\n",
       "      <td>N</td>\n",
       "    </tr>\n",
       "    <tr>\n",
       "      <th>2</th>\n",
       "      <td>LP001005</td>\n",
       "      <td>Male</td>\n",
       "      <td>Yes</td>\n",
       "      <td>0</td>\n",
       "      <td>Graduate</td>\n",
       "      <td>Yes</td>\n",
       "      <td>3000</td>\n",
       "      <td>0.0</td>\n",
       "      <td>66.0</td>\n",
       "      <td>360.0</td>\n",
       "      <td>1.0</td>\n",
       "      <td>Urban</td>\n",
       "      <td>Y</td>\n",
       "    </tr>\n",
       "    <tr>\n",
       "      <th>3</th>\n",
       "      <td>LP001006</td>\n",
       "      <td>Male</td>\n",
       "      <td>Yes</td>\n",
       "      <td>0</td>\n",
       "      <td>Not Graduate</td>\n",
       "      <td>No</td>\n",
       "      <td>2583</td>\n",
       "      <td>2358.0</td>\n",
       "      <td>120.0</td>\n",
       "      <td>360.0</td>\n",
       "      <td>1.0</td>\n",
       "      <td>Urban</td>\n",
       "      <td>Y</td>\n",
       "    </tr>\n",
       "    <tr>\n",
       "      <th>4</th>\n",
       "      <td>LP001008</td>\n",
       "      <td>Male</td>\n",
       "      <td>No</td>\n",
       "      <td>0</td>\n",
       "      <td>Graduate</td>\n",
       "      <td>No</td>\n",
       "      <td>6000</td>\n",
       "      <td>0.0</td>\n",
       "      <td>141.0</td>\n",
       "      <td>360.0</td>\n",
       "      <td>1.0</td>\n",
       "      <td>Urban</td>\n",
       "      <td>Y</td>\n",
       "    </tr>\n",
       "  </tbody>\n",
       "</table>\n",
       "</div>"
      ],
      "text/plain": [
       "    Loan_ID Gender Married Dependents     Education Self_Employed  \\\n",
       "0  LP001002   Male      No          0      Graduate            No   \n",
       "1  LP001003   Male     Yes          1      Graduate            No   \n",
       "2  LP001005   Male     Yes          0      Graduate           Yes   \n",
       "3  LP001006   Male     Yes          0  Not Graduate            No   \n",
       "4  LP001008   Male      No          0      Graduate            No   \n",
       "\n",
       "   ApplicantIncome  CoapplicantIncome  LoanAmount  Loan_Amount_Term  \\\n",
       "0             5849                0.0         NaN             360.0   \n",
       "1             4583             1508.0       128.0             360.0   \n",
       "2             3000                0.0        66.0             360.0   \n",
       "3             2583             2358.0       120.0             360.0   \n",
       "4             6000                0.0       141.0             360.0   \n",
       "\n",
       "   Credit_History Property_Area Loan_Status  \n",
       "0             1.0         Urban           Y  \n",
       "1             1.0         Rural           N  \n",
       "2             1.0         Urban           Y  \n",
       "3             1.0         Urban           Y  \n",
       "4             1.0         Urban           Y  "
      ]
     },
     "execution_count": 290,
     "metadata": {},
     "output_type": "execute_result"
    }
   ],
   "source": [
    "df_train.head()"
   ]
  },
  {
   "cell_type": "code",
   "execution_count": 291,
   "id": "e17e6663",
   "metadata": {},
   "outputs": [
    {
     "name": "stdout",
     "output_type": "stream",
     "text": [
      "<class 'pandas.core.frame.DataFrame'>\n",
      "RangeIndex: 614 entries, 0 to 613\n",
      "Data columns (total 13 columns):\n",
      " #   Column             Non-Null Count  Dtype  \n",
      "---  ------             --------------  -----  \n",
      " 0   Loan_ID            614 non-null    object \n",
      " 1   Gender             601 non-null    object \n",
      " 2   Married            611 non-null    object \n",
      " 3   Dependents         599 non-null    object \n",
      " 4   Education          614 non-null    object \n",
      " 5   Self_Employed      582 non-null    object \n",
      " 6   ApplicantIncome    614 non-null    int64  \n",
      " 7   CoapplicantIncome  614 non-null    float64\n",
      " 8   LoanAmount         592 non-null    float64\n",
      " 9   Loan_Amount_Term   600 non-null    float64\n",
      " 10  Credit_History     564 non-null    float64\n",
      " 11  Property_Area      614 non-null    object \n",
      " 12  Loan_Status        614 non-null    object \n",
      "dtypes: float64(4), int64(1), object(8)\n",
      "memory usage: 62.5+ KB\n"
     ]
    }
   ],
   "source": [
    "df_train.info()"
   ]
  },
  {
   "cell_type": "code",
   "execution_count": 292,
   "id": "6df5b31f",
   "metadata": {
    "scrolled": true
   },
   "outputs": [
    {
     "data": {
      "text/plain": [
       "Loan_ID               0\n",
       "Gender               13\n",
       "Married               3\n",
       "Dependents           15\n",
       "Education             0\n",
       "Self_Employed        32\n",
       "ApplicantIncome       0\n",
       "CoapplicantIncome     0\n",
       "LoanAmount           22\n",
       "Loan_Amount_Term     14\n",
       "Credit_History       50\n",
       "Property_Area         0\n",
       "Loan_Status           0\n",
       "dtype: int64"
      ]
     },
     "execution_count": 292,
     "metadata": {},
     "output_type": "execute_result"
    }
   ],
   "source": [
    "df_train.isnull().sum()"
   ]
  },
  {
   "cell_type": "code",
   "execution_count": 293,
   "id": "346ff475",
   "metadata": {},
   "outputs": [],
   "source": [
    "df_train.drop(columns=[\"Loan_ID\"], inplace=True)"
   ]
  },
  {
   "cell_type": "markdown",
   "id": "8dae1b4a",
   "metadata": {},
   "source": [
    "There are few null values. Let's check the percentage of null values it has."
   ]
  },
  {
   "cell_type": "code",
   "execution_count": 294,
   "id": "2fbacd33",
   "metadata": {},
   "outputs": [
    {
     "name": "stdout",
     "output_type": "stream",
     "text": [
      "There are 149 null values in the dataset out of 614\n"
     ]
    },
    {
     "data": {
      "text/html": [
       "<div>\n",
       "<style scoped>\n",
       "    .dataframe tbody tr th:only-of-type {\n",
       "        vertical-align: middle;\n",
       "    }\n",
       "\n",
       "    .dataframe tbody tr th {\n",
       "        vertical-align: top;\n",
       "    }\n",
       "\n",
       "    .dataframe thead th {\n",
       "        text-align: right;\n",
       "    }\n",
       "</style>\n",
       "<table border=\"1\" class=\"dataframe\">\n",
       "  <thead>\n",
       "    <tr style=\"text-align: right;\">\n",
       "      <th></th>\n",
       "      <th>Column</th>\n",
       "      <th>Null Count</th>\n",
       "      <th>Null Percentage</th>\n",
       "    </tr>\n",
       "  </thead>\n",
       "  <tbody>\n",
       "    <tr>\n",
       "      <th>0</th>\n",
       "      <td>Gender</td>\n",
       "      <td>13</td>\n",
       "      <td>2.12</td>\n",
       "    </tr>\n",
       "    <tr>\n",
       "      <th>1</th>\n",
       "      <td>Married</td>\n",
       "      <td>3</td>\n",
       "      <td>0.49</td>\n",
       "    </tr>\n",
       "    <tr>\n",
       "      <th>2</th>\n",
       "      <td>Dependents</td>\n",
       "      <td>15</td>\n",
       "      <td>2.44</td>\n",
       "    </tr>\n",
       "    <tr>\n",
       "      <th>3</th>\n",
       "      <td>Education</td>\n",
       "      <td>0</td>\n",
       "      <td>0.00</td>\n",
       "    </tr>\n",
       "    <tr>\n",
       "      <th>4</th>\n",
       "      <td>Self_Employed</td>\n",
       "      <td>32</td>\n",
       "      <td>5.21</td>\n",
       "    </tr>\n",
       "    <tr>\n",
       "      <th>5</th>\n",
       "      <td>ApplicantIncome</td>\n",
       "      <td>0</td>\n",
       "      <td>0.00</td>\n",
       "    </tr>\n",
       "    <tr>\n",
       "      <th>6</th>\n",
       "      <td>CoapplicantIncome</td>\n",
       "      <td>0</td>\n",
       "      <td>0.00</td>\n",
       "    </tr>\n",
       "    <tr>\n",
       "      <th>7</th>\n",
       "      <td>LoanAmount</td>\n",
       "      <td>22</td>\n",
       "      <td>3.58</td>\n",
       "    </tr>\n",
       "    <tr>\n",
       "      <th>8</th>\n",
       "      <td>Loan_Amount_Term</td>\n",
       "      <td>14</td>\n",
       "      <td>2.28</td>\n",
       "    </tr>\n",
       "    <tr>\n",
       "      <th>9</th>\n",
       "      <td>Credit_History</td>\n",
       "      <td>50</td>\n",
       "      <td>8.14</td>\n",
       "    </tr>\n",
       "    <tr>\n",
       "      <th>10</th>\n",
       "      <td>Property_Area</td>\n",
       "      <td>0</td>\n",
       "      <td>0.00</td>\n",
       "    </tr>\n",
       "    <tr>\n",
       "      <th>11</th>\n",
       "      <td>Loan_Status</td>\n",
       "      <td>0</td>\n",
       "      <td>0.00</td>\n",
       "    </tr>\n",
       "  </tbody>\n",
       "</table>\n",
       "</div>"
      ],
      "text/plain": [
       "               Column  Null Count  Null Percentage\n",
       "0              Gender          13             2.12\n",
       "1             Married           3             0.49\n",
       "2          Dependents          15             2.44\n",
       "3           Education           0             0.00\n",
       "4       Self_Employed          32             5.21\n",
       "5     ApplicantIncome           0             0.00\n",
       "6   CoapplicantIncome           0             0.00\n",
       "7          LoanAmount          22             3.58\n",
       "8    Loan_Amount_Term          14             2.28\n",
       "9      Credit_History          50             8.14\n",
       "10      Property_Area           0             0.00\n",
       "11        Loan_Status           0             0.00"
      ]
     },
     "execution_count": 294,
     "metadata": {},
     "output_type": "execute_result"
    }
   ],
   "source": [
    "def get_perct_null_values(df):\n",
    "    total_values = df.shape[0]\n",
    "    null_counts = df.isnull().sum()\n",
    "  \n",
    "    null_percentages = ((null_counts / total_values) * 100).round(2)\n",
    "    result_df = pd.DataFrame({'Column': null_counts.index, 'Null Count': null_counts.values, 'Null Percentage': null_percentages.values})\n",
    "    print(f\"There are {null_counts.sum()} null values in the dataset out of {total_values}\")\n",
    "    return result_df\n",
    "    \n",
    "get_perct_null_values(df_train)"
   ]
  },
  {
   "cell_type": "markdown",
   "id": "e113438b",
   "metadata": {},
   "source": [
    "#### Plot missing values graph"
   ]
  },
  {
   "cell_type": "code",
   "execution_count": 295,
   "id": "8dcf37c5",
   "metadata": {},
   "outputs": [
    {
     "data": {
      "text/plain": [
       "<Axes: >"
      ]
     },
     "execution_count": 295,
     "metadata": {},
     "output_type": "execute_result"
    },
    {
     "data": {
      "image/png": "[encoded data removed]",
      "text/plain": [
       "<Figure size 640x480 with 2 Axes>"
      ]
     },
     "metadata": {},
     "output_type": "display_data"
    }
   ],
   "source": [
    "sns.heatmap(df_train.isnull())"
   ]
  },
  {
   "cell_type": "markdown",
   "id": "718cf429",
   "metadata": {},
   "source": [
    "We have so many null values for credit history. Let's explore."
   ]
  },
  {
   "cell_type": "code",
   "execution_count": 296,
   "id": "8a4b0815",
   "metadata": {},
   "outputs": [
    {
     "data": {
      "text/plain": [
       "array([ 1.,  0., nan])"
      ]
     },
     "execution_count": 296,
     "metadata": {},
     "output_type": "execute_result"
    }
   ],
   "source": [
    "df_train[\"Credit_History\"].unique()"
   ]
  },
  {
   "cell_type": "code",
   "execution_count": 297,
   "id": "f31e6e1b",
   "metadata": {},
   "outputs": [],
   "source": [
    "categorical_cols = df_train.select_dtypes(include=object).columns\n",
    "numerical_cols = df_train.select_dtypes(include=[int, float]).columns"
   ]
  },
  {
   "cell_type": "markdown",
   "id": "2b4d5840",
   "metadata": {},
   "source": [
    "#### Plot count plot"
   ]
  },
  {
   "cell_type": "code",
   "execution_count": 298,
   "id": "6461cca0",
   "metadata": {},
   "outputs": [
    {
     "data": {
      "image/png": "[encoded data removed]",
      "text/plain": [
       "<Figure size 1200x1200 with 7 Axes>"
      ]
     },
     "metadata": {},
     "output_type": "display_data"
    }
   ],
   "source": [
    "num_plots = len(categorical_cols)\n",
    "num_cols = 3\n",
    "num_rows = (num_plots // num_cols) + 1\n",
    "\n",
    "fig, axes = plt.subplots(num_rows, num_cols, figsize=(12, 12))\n",
    "axes = axes.flatten()\n",
    "\n",
    "for i, column in enumerate(categorical_cols):\n",
    "    ax = axes[i]\n",
    "    sns.countplot(df_train, x=column, ax=ax)\n",
    "    ax.set_title(f\"{column.capitalize()} Distribution\") \n",
    "    plt.xlabel(column)\n",
    "    \n",
    "# Remove any empty plots\n",
    "for i in range(num_plots, num_rows * num_cols):\n",
    "    fig.delaxes(axes[i])\n",
    "    \n",
    "plt.subplots_adjust(wspace=0.4, hspace=0.6)"
   ]
  },
  {
   "cell_type": "markdown",
   "id": "f497b0e3",
   "metadata": {},
   "source": [
    "#### Analyze the distribution of the target feature"
   ]
  },
  {
   "cell_type": "code",
   "execution_count": 299,
   "id": "d53604a8",
   "metadata": {},
   "outputs": [
    {
     "data": {
      "text/plain": [
       "Y    68.73\n",
       "N    31.27\n",
       "Name: Loan_Status, dtype: float64"
      ]
     },
     "execution_count": 299,
     "metadata": {},
     "output_type": "execute_result"
    }
   ],
   "source": [
    "(df_train['Loan_Status'].value_counts(normalize=True) * 100).round(2)"
   ]
  },
  {
   "cell_type": "markdown",
   "id": "e80a98d9",
   "metadata": {},
   "source": [
    "## 4. Data Preprocessing"
   ]
  },
  {
   "cell_type": "markdown",
   "id": "1a816f44",
   "metadata": {},
   "source": [
    "#### Convert target feature to 0's and 1's"
   ]
  },
  {
   "cell_type": "code",
   "execution_count": 300,
   "id": "9e41bf89",
   "metadata": {},
   "outputs": [],
   "source": [
    "df_train[\"Loan_Status\"] = df_train[\"Loan_Status\"].map({\"Y\": 1, \"N\": 0})"
   ]
  },
  {
   "cell_type": "markdown",
   "id": "829de2af",
   "metadata": {},
   "source": [
    "### Handle Missing data"
   ]
  },
  {
   "cell_type": "markdown",
   "id": "1889382d",
   "metadata": {},
   "source": [
    "#### Handling Credit History\n",
    "\n",
    "There are around 50 null values in Credit_History feature. We'll fill all the null values with 0. As null values means, the person doesn't have a credit history."
   ]
  },
  {
   "cell_type": "code",
   "execution_count": 301,
   "id": "28cd82ee",
   "metadata": {},
   "outputs": [],
   "source": [
    "df_train[\"Credit_History\"] = df_train[\"Credit_History\"].fillna(0)"
   ]
  },
  {
   "cell_type": "code",
   "execution_count": 302,
   "id": "4fdcfc1b",
   "metadata": {},
   "outputs": [
    {
     "name": "stdout",
     "output_type": "stream",
     "text": [
      "There are 99 null values in the dataset out of 614\n"
     ]
    },
    {
     "data": {
      "text/html": [
       "<div>\n",
       "<style scoped>\n",
       "    .dataframe tbody tr th:only-of-type {\n",
       "        vertical-align: middle;\n",
       "    }\n",
       "\n",
       "    .dataframe tbody tr th {\n",
       "        vertical-align: top;\n",
       "    }\n",
       "\n",
       "    .dataframe thead th {\n",
       "        text-align: right;\n",
       "    }\n",
       "</style>\n",
       "<table border=\"1\" class=\"dataframe\">\n",
       "  <thead>\n",
       "    <tr style=\"text-align: right;\">\n",
       "      <th></th>\n",
       "      <th>Column</th>\n",
       "      <th>Null Count</th>\n",
       "      <th>Null Percentage</th>\n",
       "    </tr>\n",
       "  </thead>\n",
       "  <tbody>\n",
       "    <tr>\n",
       "      <th>0</th>\n",
       "      <td>Gender</td>\n",
       "      <td>13</td>\n",
       "      <td>2.12</td>\n",
       "    </tr>\n",
       "    <tr>\n",
       "      <th>1</th>\n",
       "      <td>Married</td>\n",
       "      <td>3</td>\n",
       "      <td>0.49</td>\n",
       "    </tr>\n",
       "    <tr>\n",
       "      <th>2</th>\n",
       "      <td>Dependents</td>\n",
       "      <td>15</td>\n",
       "      <td>2.44</td>\n",
       "    </tr>\n",
       "    <tr>\n",
       "      <th>3</th>\n",
       "      <td>Education</td>\n",
       "      <td>0</td>\n",
       "      <td>0.00</td>\n",
       "    </tr>\n",
       "    <tr>\n",
       "      <th>4</th>\n",
       "      <td>Self_Employed</td>\n",
       "      <td>32</td>\n",
       "      <td>5.21</td>\n",
       "    </tr>\n",
       "    <tr>\n",
       "      <th>5</th>\n",
       "      <td>ApplicantIncome</td>\n",
       "      <td>0</td>\n",
       "      <td>0.00</td>\n",
       "    </tr>\n",
       "    <tr>\n",
       "      <th>6</th>\n",
       "      <td>CoapplicantIncome</td>\n",
       "      <td>0</td>\n",
       "      <td>0.00</td>\n",
       "    </tr>\n",
       "    <tr>\n",
       "      <th>7</th>\n",
       "      <td>LoanAmount</td>\n",
       "      <td>22</td>\n",
       "      <td>3.58</td>\n",
       "    </tr>\n",
       "    <tr>\n",
       "      <th>8</th>\n",
       "      <td>Loan_Amount_Term</td>\n",
       "      <td>14</td>\n",
       "      <td>2.28</td>\n",
       "    </tr>\n",
       "    <tr>\n",
       "      <th>9</th>\n",
       "      <td>Credit_History</td>\n",
       "      <td>0</td>\n",
       "      <td>0.00</td>\n",
       "    </tr>\n",
       "    <tr>\n",
       "      <th>10</th>\n",
       "      <td>Property_Area</td>\n",
       "      <td>0</td>\n",
       "      <td>0.00</td>\n",
       "    </tr>\n",
       "    <tr>\n",
       "      <th>11</th>\n",
       "      <td>Loan_Status</td>\n",
       "      <td>0</td>\n",
       "      <td>0.00</td>\n",
       "    </tr>\n",
       "  </tbody>\n",
       "</table>\n",
       "</div>"
      ],
      "text/plain": [
       "               Column  Null Count  Null Percentage\n",
       "0              Gender          13             2.12\n",
       "1             Married           3             0.49\n",
       "2          Dependents          15             2.44\n",
       "3           Education           0             0.00\n",
       "4       Self_Employed          32             5.21\n",
       "5     ApplicantIncome           0             0.00\n",
       "6   CoapplicantIncome           0             0.00\n",
       "7          LoanAmount          22             3.58\n",
       "8    Loan_Amount_Term          14             2.28\n",
       "9      Credit_History           0             0.00\n",
       "10      Property_Area           0             0.00\n",
       "11        Loan_Status           0             0.00"
      ]
     },
     "execution_count": 302,
     "metadata": {},
     "output_type": "execute_result"
    }
   ],
   "source": [
    "get_perct_null_values(df_train)"
   ]
  },
  {
   "cell_type": "markdown",
   "id": "3c7dbb92",
   "metadata": {},
   "source": [
    "#### Handle Gender feature\n",
    "\n",
    "Here there are 13 null values. We can impute the most predominant value here i.e Male"
   ]
  },
  {
   "cell_type": "code",
   "execution_count": 303,
   "id": "2b69833f",
   "metadata": {},
   "outputs": [],
   "source": [
    "imputer = SimpleImputer(strategy='most_frequent')\n",
    "df_train['Gender'] = imputer.fit_transform(df_train[['Gender']])"
   ]
  },
  {
   "cell_type": "code",
   "execution_count": 304,
   "id": "904830f3",
   "metadata": {},
   "outputs": [
    {
     "name": "stdout",
     "output_type": "stream",
     "text": [
      "There are 86 null values in the dataset out of 614\n"
     ]
    },
    {
     "data": {
      "text/html": [
       "<div>\n",
       "<style scoped>\n",
       "    .dataframe tbody tr th:only-of-type {\n",
       "        vertical-align: middle;\n",
       "    }\n",
       "\n",
       "    .dataframe tbody tr th {\n",
       "        vertical-align: top;\n",
       "    }\n",
       "\n",
       "    .dataframe thead th {\n",
       "        text-align: right;\n",
       "    }\n",
       "</style>\n",
       "<table border=\"1\" class=\"dataframe\">\n",
       "  <thead>\n",
       "    <tr style=\"text-align: right;\">\n",
       "      <th></th>\n",
       "      <th>Column</th>\n",
       "      <th>Null Count</th>\n",
       "      <th>Null Percentage</th>\n",
       "    </tr>\n",
       "  </thead>\n",
       "  <tbody>\n",
       "    <tr>\n",
       "      <th>0</th>\n",
       "      <td>Gender</td>\n",
       "      <td>0</td>\n",
       "      <td>0.00</td>\n",
       "    </tr>\n",
       "    <tr>\n",
       "      <th>1</th>\n",
       "      <td>Married</td>\n",
       "      <td>3</td>\n",
       "      <td>0.49</td>\n",
       "    </tr>\n",
       "    <tr>\n",
       "      <th>2</th>\n",
       "      <td>Dependents</td>\n",
       "      <td>15</td>\n",
       "      <td>2.44</td>\n",
       "    </tr>\n",
       "    <tr>\n",
       "      <th>3</th>\n",
       "      <td>Education</td>\n",
       "      <td>0</td>\n",
       "      <td>0.00</td>\n",
       "    </tr>\n",
       "    <tr>\n",
       "      <th>4</th>\n",
       "      <td>Self_Employed</td>\n",
       "      <td>32</td>\n",
       "      <td>5.21</td>\n",
       "    </tr>\n",
       "    <tr>\n",
       "      <th>5</th>\n",
       "      <td>ApplicantIncome</td>\n",
       "      <td>0</td>\n",
       "      <td>0.00</td>\n",
       "    </tr>\n",
       "    <tr>\n",
       "      <th>6</th>\n",
       "      <td>CoapplicantIncome</td>\n",
       "      <td>0</td>\n",
       "      <td>0.00</td>\n",
       "    </tr>\n",
       "    <tr>\n",
       "      <th>7</th>\n",
       "      <td>LoanAmount</td>\n",
       "      <td>22</td>\n",
       "      <td>3.58</td>\n",
       "    </tr>\n",
       "    <tr>\n",
       "      <th>8</th>\n",
       "      <td>Loan_Amount_Term</td>\n",
       "      <td>14</td>\n",
       "      <td>2.28</td>\n",
       "    </tr>\n",
       "    <tr>\n",
       "      <th>9</th>\n",
       "      <td>Credit_History</td>\n",
       "      <td>0</td>\n",
       "      <td>0.00</td>\n",
       "    </tr>\n",
       "    <tr>\n",
       "      <th>10</th>\n",
       "      <td>Property_Area</td>\n",
       "      <td>0</td>\n",
       "      <td>0.00</td>\n",
       "    </tr>\n",
       "    <tr>\n",
       "      <th>11</th>\n",
       "      <td>Loan_Status</td>\n",
       "      <td>0</td>\n",
       "      <td>0.00</td>\n",
       "    </tr>\n",
       "  </tbody>\n",
       "</table>\n",
       "</div>"
      ],
      "text/plain": [
       "               Column  Null Count  Null Percentage\n",
       "0              Gender           0             0.00\n",
       "1             Married           3             0.49\n",
       "2          Dependents          15             2.44\n",
       "3           Education           0             0.00\n",
       "4       Self_Employed          32             5.21\n",
       "5     ApplicantIncome           0             0.00\n",
       "6   CoapplicantIncome           0             0.00\n",
       "7          LoanAmount          22             3.58\n",
       "8    Loan_Amount_Term          14             2.28\n",
       "9      Credit_History           0             0.00\n",
       "10      Property_Area           0             0.00\n",
       "11        Loan_Status           0             0.00"
      ]
     },
     "execution_count": 304,
     "metadata": {},
     "output_type": "execute_result"
    }
   ],
   "source": [
    "get_perct_null_values(df_train)"
   ]
  },
  {
   "cell_type": "markdown",
   "id": "50140e1c",
   "metadata": {},
   "source": [
    "#### Handle Self_Employed feature.\n",
    "\n",
    "Here, there are 32 null values in self_employed."
   ]
  },
  {
   "cell_type": "code",
   "execution_count": 305,
   "id": "a961ae9b",
   "metadata": {},
   "outputs": [
    {
     "data": {
      "text/plain": [
       "No     500\n",
       "Yes     82\n",
       "Name: Self_Employed, dtype: int64"
      ]
     },
     "execution_count": 305,
     "metadata": {},
     "output_type": "execute_result"
    }
   ],
   "source": [
    "df_train.Self_Employed.value_counts()"
   ]
  },
  {
   "cell_type": "markdown",
   "id": "7ed9267f",
   "metadata": {},
   "source": [
    "Here, we can see that No is predominant value in the feature. We can use simple imputer to impute most_frequent value."
   ]
  },
  {
   "cell_type": "code",
   "execution_count": 306,
   "id": "d222d5f2",
   "metadata": {},
   "outputs": [],
   "source": [
    "df_train[\"Self_Employed\"] = imputer.fit_transform(df_train[[\"Self_Employed\"]])"
   ]
  },
  {
   "cell_type": "code",
   "execution_count": 307,
   "id": "0eac4dc5",
   "metadata": {
    "scrolled": true
   },
   "outputs": [
    {
     "name": "stdout",
     "output_type": "stream",
     "text": [
      "There are 54 null values in the dataset out of 614\n"
     ]
    },
    {
     "data": {
      "text/html": [
       "<div>\n",
       "<style scoped>\n",
       "    .dataframe tbody tr th:only-of-type {\n",
       "        vertical-align: middle;\n",
       "    }\n",
       "\n",
       "    .dataframe tbody tr th {\n",
       "        vertical-align: top;\n",
       "    }\n",
       "\n",
       "    .dataframe thead th {\n",
       "        text-align: right;\n",
       "    }\n",
       "</style>\n",
       "<table border=\"1\" class=\"dataframe\">\n",
       "  <thead>\n",
       "    <tr style=\"text-align: right;\">\n",
       "      <th></th>\n",
       "      <th>Column</th>\n",
       "      <th>Null Count</th>\n",
       "      <th>Null Percentage</th>\n",
       "    </tr>\n",
       "  </thead>\n",
       "  <tbody>\n",
       "    <tr>\n",
       "      <th>0</th>\n",
       "      <td>Gender</td>\n",
       "      <td>0</td>\n",
       "      <td>0.00</td>\n",
       "    </tr>\n",
       "    <tr>\n",
       "      <th>1</th>\n",
       "      <td>Married</td>\n",
       "      <td>3</td>\n",
       "      <td>0.49</td>\n",
       "    </tr>\n",
       "    <tr>\n",
       "      <th>2</th>\n",
       "      <td>Dependents</td>\n",
       "      <td>15</td>\n",
       "      <td>2.44</td>\n",
       "    </tr>\n",
       "    <tr>\n",
       "      <th>3</th>\n",
       "      <td>Education</td>\n",
       "      <td>0</td>\n",
       "      <td>0.00</td>\n",
       "    </tr>\n",
       "    <tr>\n",
       "      <th>4</th>\n",
       "      <td>Self_Employed</td>\n",
       "      <td>0</td>\n",
       "      <td>0.00</td>\n",
       "    </tr>\n",
       "    <tr>\n",
       "      <th>5</th>\n",
       "      <td>ApplicantIncome</td>\n",
       "      <td>0</td>\n",
       "      <td>0.00</td>\n",
       "    </tr>\n",
       "    <tr>\n",
       "      <th>6</th>\n",
       "      <td>CoapplicantIncome</td>\n",
       "      <td>0</td>\n",
       "      <td>0.00</td>\n",
       "    </tr>\n",
       "    <tr>\n",
       "      <th>7</th>\n",
       "      <td>LoanAmount</td>\n",
       "      <td>22</td>\n",
       "      <td>3.58</td>\n",
       "    </tr>\n",
       "    <tr>\n",
       "      <th>8</th>\n",
       "      <td>Loan_Amount_Term</td>\n",
       "      <td>14</td>\n",
       "      <td>2.28</td>\n",
       "    </tr>\n",
       "    <tr>\n",
       "      <th>9</th>\n",
       "      <td>Credit_History</td>\n",
       "      <td>0</td>\n",
       "      <td>0.00</td>\n",
       "    </tr>\n",
       "    <tr>\n",
       "      <th>10</th>\n",
       "      <td>Property_Area</td>\n",
       "      <td>0</td>\n",
       "      <td>0.00</td>\n",
       "    </tr>\n",
       "    <tr>\n",
       "      <th>11</th>\n",
       "      <td>Loan_Status</td>\n",
       "      <td>0</td>\n",
       "      <td>0.00</td>\n",
       "    </tr>\n",
       "  </tbody>\n",
       "</table>\n",
       "</div>"
      ],
      "text/plain": [
       "               Column  Null Count  Null Percentage\n",
       "0              Gender           0             0.00\n",
       "1             Married           3             0.49\n",
       "2          Dependents          15             2.44\n",
       "3           Education           0             0.00\n",
       "4       Self_Employed           0             0.00\n",
       "5     ApplicantIncome           0             0.00\n",
       "6   CoapplicantIncome           0             0.00\n",
       "7          LoanAmount          22             3.58\n",
       "8    Loan_Amount_Term          14             2.28\n",
       "9      Credit_History           0             0.00\n",
       "10      Property_Area           0             0.00\n",
       "11        Loan_Status           0             0.00"
      ]
     },
     "execution_count": 307,
     "metadata": {},
     "output_type": "execute_result"
    }
   ],
   "source": [
    "get_perct_null_values(df_train)"
   ]
  },
  {
   "cell_type": "markdown",
   "id": "f4cd5c2a",
   "metadata": {},
   "source": [
    "#### Handle skewness of LoanAmount feature"
   ]
  },
  {
   "cell_type": "code",
   "execution_count": 308,
   "id": "f936fe7a",
   "metadata": {},
   "outputs": [
    {
     "data": {
      "text/plain": [
       "<Axes: >"
      ]
     },
     "execution_count": 308,
     "metadata": {},
     "output_type": "execute_result"
    },
    {
     "data": {
      "image/png": "[encoded data removed]",
      "text/plain": [
       "<Figure size 640x480 with 1 Axes>"
      ]
     },
     "metadata": {},
     "output_type": "display_data"
    }
   ],
   "source": [
    "sns.boxplot(df_train.LoanAmount)"
   ]
  },
  {
   "cell_type": "code",
   "execution_count": 309,
   "id": "f6715ad9",
   "metadata": {},
   "outputs": [
    {
     "data": {
      "image/png": "[encoded data removed]",
      "text/plain": [
       "<Figure size 640x480 with 1 Axes>"
      ]
     },
     "metadata": {},
     "output_type": "display_data"
    }
   ],
   "source": [
    "plt.hist(df_train.LoanAmount);"
   ]
  },
  {
   "cell_type": "code",
   "execution_count": 310,
   "id": "0e45c996",
   "metadata": {},
   "outputs": [
    {
     "data": {
      "text/plain": [
       "count    592.000000\n",
       "mean     146.412162\n",
       "std       85.587325\n",
       "min        9.000000\n",
       "25%      100.000000\n",
       "50%      128.000000\n",
       "75%      168.000000\n",
       "max      700.000000\n",
       "Name: LoanAmount, dtype: float64"
      ]
     },
     "execution_count": 310,
     "metadata": {},
     "output_type": "execute_result"
    }
   ],
   "source": [
    "df_train.LoanAmount.describe()"
   ]
  },
  {
   "cell_type": "code",
   "execution_count": 311,
   "id": "432a7bc1",
   "metadata": {},
   "outputs": [
    {
     "data": {
      "text/plain": [
       "(29, 12)"
      ]
     },
     "execution_count": 311,
     "metadata": {},
     "output_type": "execute_result"
    }
   ],
   "source": [
    "df_train[df_train.LoanAmount > 300].shape"
   ]
  },
  {
   "cell_type": "code",
   "execution_count": 312,
   "id": "008d38b1",
   "metadata": {},
   "outputs": [],
   "source": [
    "threshold = 400\n",
    "df_train['LoanAmount'] = df_train['LoanAmount'].apply(lambda x: threshold if x > threshold else x)"
   ]
  },
  {
   "cell_type": "markdown",
   "id": "cef9e384",
   "metadata": {},
   "source": [
    "#### Handle null values in LoanAmount Feature\n",
    "\n",
    "Here there are 22 null values in this feature. We'll use mean values to impute them."
   ]
  },
  {
   "cell_type": "code",
   "execution_count": 313,
   "id": "9a6d3b98",
   "metadata": {},
   "outputs": [],
   "source": [
    "imputer = SimpleImputer(strategy='mean')\n",
    "\n",
    "df_train['LoanAmount'] = imputer.fit_transform(df_train[['LoanAmount']])"
   ]
  },
  {
   "cell_type": "code",
   "execution_count": 314,
   "id": "7a8fe1bd",
   "metadata": {},
   "outputs": [
    {
     "name": "stdout",
     "output_type": "stream",
     "text": [
      "There are 32 null values in the dataset out of 614\n"
     ]
    },
    {
     "data": {
      "text/html": [
       "<div>\n",
       "<style scoped>\n",
       "    .dataframe tbody tr th:only-of-type {\n",
       "        vertical-align: middle;\n",
       "    }\n",
       "\n",
       "    .dataframe tbody tr th {\n",
       "        vertical-align: top;\n",
       "    }\n",
       "\n",
       "    .dataframe thead th {\n",
       "        text-align: right;\n",
       "    }\n",
       "</style>\n",
       "<table border=\"1\" class=\"dataframe\">\n",
       "  <thead>\n",
       "    <tr style=\"text-align: right;\">\n",
       "      <th></th>\n",
       "      <th>Column</th>\n",
       "      <th>Null Count</th>\n",
       "      <th>Null Percentage</th>\n",
       "    </tr>\n",
       "  </thead>\n",
       "  <tbody>\n",
       "    <tr>\n",
       "      <th>0</th>\n",
       "      <td>Gender</td>\n",
       "      <td>0</td>\n",
       "      <td>0.00</td>\n",
       "    </tr>\n",
       "    <tr>\n",
       "      <th>1</th>\n",
       "      <td>Married</td>\n",
       "      <td>3</td>\n",
       "      <td>0.49</td>\n",
       "    </tr>\n",
       "    <tr>\n",
       "      <th>2</th>\n",
       "      <td>Dependents</td>\n",
       "      <td>15</td>\n",
       "      <td>2.44</td>\n",
       "    </tr>\n",
       "    <tr>\n",
       "      <th>3</th>\n",
       "      <td>Education</td>\n",
       "      <td>0</td>\n",
       "      <td>0.00</td>\n",
       "    </tr>\n",
       "    <tr>\n",
       "      <th>4</th>\n",
       "      <td>Self_Employed</td>\n",
       "      <td>0</td>\n",
       "      <td>0.00</td>\n",
       "    </tr>\n",
       "    <tr>\n",
       "      <th>5</th>\n",
       "      <td>ApplicantIncome</td>\n",
       "      <td>0</td>\n",
       "      <td>0.00</td>\n",
       "    </tr>\n",
       "    <tr>\n",
       "      <th>6</th>\n",
       "      <td>CoapplicantIncome</td>\n",
       "      <td>0</td>\n",
       "      <td>0.00</td>\n",
       "    </tr>\n",
       "    <tr>\n",
       "      <th>7</th>\n",
       "      <td>LoanAmount</td>\n",
       "      <td>0</td>\n",
       "      <td>0.00</td>\n",
       "    </tr>\n",
       "    <tr>\n",
       "      <th>8</th>\n",
       "      <td>Loan_Amount_Term</td>\n",
       "      <td>14</td>\n",
       "      <td>2.28</td>\n",
       "    </tr>\n",
       "    <tr>\n",
       "      <th>9</th>\n",
       "      <td>Credit_History</td>\n",
       "      <td>0</td>\n",
       "      <td>0.00</td>\n",
       "    </tr>\n",
       "    <tr>\n",
       "      <th>10</th>\n",
       "      <td>Property_Area</td>\n",
       "      <td>0</td>\n",
       "      <td>0.00</td>\n",
       "    </tr>\n",
       "    <tr>\n",
       "      <th>11</th>\n",
       "      <td>Loan_Status</td>\n",
       "      <td>0</td>\n",
       "      <td>0.00</td>\n",
       "    </tr>\n",
       "  </tbody>\n",
       "</table>\n",
       "</div>"
      ],
      "text/plain": [
       "               Column  Null Count  Null Percentage\n",
       "0              Gender           0             0.00\n",
       "1             Married           3             0.49\n",
       "2          Dependents          15             2.44\n",
       "3           Education           0             0.00\n",
       "4       Self_Employed           0             0.00\n",
       "5     ApplicantIncome           0             0.00\n",
       "6   CoapplicantIncome           0             0.00\n",
       "7          LoanAmount           0             0.00\n",
       "8    Loan_Amount_Term          14             2.28\n",
       "9      Credit_History           0             0.00\n",
       "10      Property_Area           0             0.00\n",
       "11        Loan_Status           0             0.00"
      ]
     },
     "execution_count": 314,
     "metadata": {},
     "output_type": "execute_result"
    }
   ],
   "source": [
    "get_perct_null_values(df_train)"
   ]
  },
  {
   "cell_type": "markdown",
   "id": "a7d174e6",
   "metadata": {},
   "source": [
    "#### Handle Married feature\n",
    "\n",
    "There are only 3 null values. We can drop them, but as our dataset is small we'll place the most frequent value."
   ]
  },
  {
   "cell_type": "code",
   "execution_count": 315,
   "id": "6b077355",
   "metadata": {},
   "outputs": [],
   "source": [
    "imputer = SimpleImputer(strategy='most_frequent')\n",
    "\n",
    "df_train['Married'] = imputer.fit_transform(df_train[['Married']])"
   ]
  },
  {
   "cell_type": "code",
   "execution_count": 316,
   "id": "862bf093",
   "metadata": {},
   "outputs": [
    {
     "name": "stdout",
     "output_type": "stream",
     "text": [
      "There are 29 null values in the dataset out of 614\n"
     ]
    },
    {
     "data": {
      "text/html": [
       "<div>\n",
       "<style scoped>\n",
       "    .dataframe tbody tr th:only-of-type {\n",
       "        vertical-align: middle;\n",
       "    }\n",
       "\n",
       "    .dataframe tbody tr th {\n",
       "        vertical-align: top;\n",
       "    }\n",
       "\n",
       "    .dataframe thead th {\n",
       "        text-align: right;\n",
       "    }\n",
       "</style>\n",
       "<table border=\"1\" class=\"dataframe\">\n",
       "  <thead>\n",
       "    <tr style=\"text-align: right;\">\n",
       "      <th></th>\n",
       "      <th>Column</th>\n",
       "      <th>Null Count</th>\n",
       "      <th>Null Percentage</th>\n",
       "    </tr>\n",
       "  </thead>\n",
       "  <tbody>\n",
       "    <tr>\n",
       "      <th>0</th>\n",
       "      <td>Gender</td>\n",
       "      <td>0</td>\n",
       "      <td>0.00</td>\n",
       "    </tr>\n",
       "    <tr>\n",
       "      <th>1</th>\n",
       "      <td>Married</td>\n",
       "      <td>0</td>\n",
       "      <td>0.00</td>\n",
       "    </tr>\n",
       "    <tr>\n",
       "      <th>2</th>\n",
       "      <td>Dependents</td>\n",
       "      <td>15</td>\n",
       "      <td>2.44</td>\n",
       "    </tr>\n",
       "    <tr>\n",
       "      <th>3</th>\n",
       "      <td>Education</td>\n",
       "      <td>0</td>\n",
       "      <td>0.00</td>\n",
       "    </tr>\n",
       "    <tr>\n",
       "      <th>4</th>\n",
       "      <td>Self_Employed</td>\n",
       "      <td>0</td>\n",
       "      <td>0.00</td>\n",
       "    </tr>\n",
       "    <tr>\n",
       "      <th>5</th>\n",
       "      <td>ApplicantIncome</td>\n",
       "      <td>0</td>\n",
       "      <td>0.00</td>\n",
       "    </tr>\n",
       "    <tr>\n",
       "      <th>6</th>\n",
       "      <td>CoapplicantIncome</td>\n",
       "      <td>0</td>\n",
       "      <td>0.00</td>\n",
       "    </tr>\n",
       "    <tr>\n",
       "      <th>7</th>\n",
       "      <td>LoanAmount</td>\n",
       "      <td>0</td>\n",
       "      <td>0.00</td>\n",
       "    </tr>\n",
       "    <tr>\n",
       "      <th>8</th>\n",
       "      <td>Loan_Amount_Term</td>\n",
       "      <td>14</td>\n",
       "      <td>2.28</td>\n",
       "    </tr>\n",
       "    <tr>\n",
       "      <th>9</th>\n",
       "      <td>Credit_History</td>\n",
       "      <td>0</td>\n",
       "      <td>0.00</td>\n",
       "    </tr>\n",
       "    <tr>\n",
       "      <th>10</th>\n",
       "      <td>Property_Area</td>\n",
       "      <td>0</td>\n",
       "      <td>0.00</td>\n",
       "    </tr>\n",
       "    <tr>\n",
       "      <th>11</th>\n",
       "      <td>Loan_Status</td>\n",
       "      <td>0</td>\n",
       "      <td>0.00</td>\n",
       "    </tr>\n",
       "  </tbody>\n",
       "</table>\n",
       "</div>"
      ],
      "text/plain": [
       "               Column  Null Count  Null Percentage\n",
       "0              Gender           0             0.00\n",
       "1             Married           0             0.00\n",
       "2          Dependents          15             2.44\n",
       "3           Education           0             0.00\n",
       "4       Self_Employed           0             0.00\n",
       "5     ApplicantIncome           0             0.00\n",
       "6   CoapplicantIncome           0             0.00\n",
       "7          LoanAmount           0             0.00\n",
       "8    Loan_Amount_Term          14             2.28\n",
       "9      Credit_History           0             0.00\n",
       "10      Property_Area           0             0.00\n",
       "11        Loan_Status           0             0.00"
      ]
     },
     "execution_count": 316,
     "metadata": {},
     "output_type": "execute_result"
    }
   ],
   "source": [
    "get_perct_null_values(df_train)"
   ]
  },
  {
   "cell_type": "markdown",
   "id": "bc8f264d",
   "metadata": {},
   "source": [
    "### Handle Dependents and Loan_Amount_Term features."
   ]
  },
  {
   "cell_type": "code",
   "execution_count": 317,
   "id": "ebff87c4",
   "metadata": {},
   "outputs": [],
   "source": [
    "imputer = SimpleImputer(strategy='most_frequent')\n",
    "\n",
    "df_train['Dependents'] = imputer.fit_transform(df_train[['Dependents']])"
   ]
  },
  {
   "cell_type": "code",
   "execution_count": 318,
   "id": "4d59cfc7",
   "metadata": {},
   "outputs": [
    {
     "name": "stdout",
     "output_type": "stream",
     "text": [
      "There are 14 null values in the dataset out of 614\n"
     ]
    },
    {
     "data": {
      "text/html": [
       "<div>\n",
       "<style scoped>\n",
       "    .dataframe tbody tr th:only-of-type {\n",
       "        vertical-align: middle;\n",
       "    }\n",
       "\n",
       "    .dataframe tbody tr th {\n",
       "        vertical-align: top;\n",
       "    }\n",
       "\n",
       "    .dataframe thead th {\n",
       "        text-align: right;\n",
       "    }\n",
       "</style>\n",
       "<table border=\"1\" class=\"dataframe\">\n",
       "  <thead>\n",
       "    <tr style=\"text-align: right;\">\n",
       "      <th></th>\n",
       "      <th>Column</th>\n",
       "      <th>Null Count</th>\n",
       "      <th>Null Percentage</th>\n",
       "    </tr>\n",
       "  </thead>\n",
       "  <tbody>\n",
       "    <tr>\n",
       "      <th>0</th>\n",
       "      <td>Gender</td>\n",
       "      <td>0</td>\n",
       "      <td>0.00</td>\n",
       "    </tr>\n",
       "    <tr>\n",
       "      <th>1</th>\n",
       "      <td>Married</td>\n",
       "      <td>0</td>\n",
       "      <td>0.00</td>\n",
       "    </tr>\n",
       "    <tr>\n",
       "      <th>2</th>\n",
       "      <td>Dependents</td>\n",
       "      <td>0</td>\n",
       "      <td>0.00</td>\n",
       "    </tr>\n",
       "    <tr>\n",
       "      <th>3</th>\n",
       "      <td>Education</td>\n",
       "      <td>0</td>\n",
       "      <td>0.00</td>\n",
       "    </tr>\n",
       "    <tr>\n",
       "      <th>4</th>\n",
       "      <td>Self_Employed</td>\n",
       "      <td>0</td>\n",
       "      <td>0.00</td>\n",
       "    </tr>\n",
       "    <tr>\n",
       "      <th>5</th>\n",
       "      <td>ApplicantIncome</td>\n",
       "      <td>0</td>\n",
       "      <td>0.00</td>\n",
       "    </tr>\n",
       "    <tr>\n",
       "      <th>6</th>\n",
       "      <td>CoapplicantIncome</td>\n",
       "      <td>0</td>\n",
       "      <td>0.00</td>\n",
       "    </tr>\n",
       "    <tr>\n",
       "      <th>7</th>\n",
       "      <td>LoanAmount</td>\n",
       "      <td>0</td>\n",
       "      <td>0.00</td>\n",
       "    </tr>\n",
       "    <tr>\n",
       "      <th>8</th>\n",
       "      <td>Loan_Amount_Term</td>\n",
       "      <td>14</td>\n",
       "      <td>2.28</td>\n",
       "    </tr>\n",
       "    <tr>\n",
       "      <th>9</th>\n",
       "      <td>Credit_History</td>\n",
       "      <td>0</td>\n",
       "      <td>0.00</td>\n",
       "    </tr>\n",
       "    <tr>\n",
       "      <th>10</th>\n",
       "      <td>Property_Area</td>\n",
       "      <td>0</td>\n",
       "      <td>0.00</td>\n",
       "    </tr>\n",
       "    <tr>\n",
       "      <th>11</th>\n",
       "      <td>Loan_Status</td>\n",
       "      <td>0</td>\n",
       "      <td>0.00</td>\n",
       "    </tr>\n",
       "  </tbody>\n",
       "</table>\n",
       "</div>"
      ],
      "text/plain": [
       "               Column  Null Count  Null Percentage\n",
       "0              Gender           0             0.00\n",
       "1             Married           0             0.00\n",
       "2          Dependents           0             0.00\n",
       "3           Education           0             0.00\n",
       "4       Self_Employed           0             0.00\n",
       "5     ApplicantIncome           0             0.00\n",
       "6   CoapplicantIncome           0             0.00\n",
       "7          LoanAmount           0             0.00\n",
       "8    Loan_Amount_Term          14             2.28\n",
       "9      Credit_History           0             0.00\n",
       "10      Property_Area           0             0.00\n",
       "11        Loan_Status           0             0.00"
      ]
     },
     "execution_count": 318,
     "metadata": {},
     "output_type": "execute_result"
    }
   ],
   "source": [
    "get_perct_null_values(df_train)"
   ]
  },
  {
   "cell_type": "code",
   "execution_count": 319,
   "id": "631207c2",
   "metadata": {},
   "outputs": [],
   "source": [
    "imputer = SimpleImputer(strategy='most_frequent')\n",
    "\n",
    "df_train['Loan_Amount_Term'] = imputer.fit_transform(df_train[['Loan_Amount_Term']])"
   ]
  },
  {
   "cell_type": "code",
   "execution_count": 320,
   "id": "94501ae3",
   "metadata": {},
   "outputs": [
    {
     "name": "stdout",
     "output_type": "stream",
     "text": [
      "There are 0 null values in the dataset out of 614\n"
     ]
    },
    {
     "data": {
      "text/html": [
       "<div>\n",
       "<style scoped>\n",
       "    .dataframe tbody tr th:only-of-type {\n",
       "        vertical-align: middle;\n",
       "    }\n",
       "\n",
       "    .dataframe tbody tr th {\n",
       "        vertical-align: top;\n",
       "    }\n",
       "\n",
       "    .dataframe thead th {\n",
       "        text-align: right;\n",
       "    }\n",
       "</style>\n",
       "<table border=\"1\" class=\"dataframe\">\n",
       "  <thead>\n",
       "    <tr style=\"text-align: right;\">\n",
       "      <th></th>\n",
       "      <th>Column</th>\n",
       "      <th>Null Count</th>\n",
       "      <th>Null Percentage</th>\n",
       "    </tr>\n",
       "  </thead>\n",
       "  <tbody>\n",
       "    <tr>\n",
       "      <th>0</th>\n",
       "      <td>Gender</td>\n",
       "      <td>0</td>\n",
       "      <td>0.0</td>\n",
       "    </tr>\n",
       "    <tr>\n",
       "      <th>1</th>\n",
       "      <td>Married</td>\n",
       "      <td>0</td>\n",
       "      <td>0.0</td>\n",
       "    </tr>\n",
       "    <tr>\n",
       "      <th>2</th>\n",
       "      <td>Dependents</td>\n",
       "      <td>0</td>\n",
       "      <td>0.0</td>\n",
       "    </tr>\n",
       "    <tr>\n",
       "      <th>3</th>\n",
       "      <td>Education</td>\n",
       "      <td>0</td>\n",
       "      <td>0.0</td>\n",
       "    </tr>\n",
       "    <tr>\n",
       "      <th>4</th>\n",
       "      <td>Self_Employed</td>\n",
       "      <td>0</td>\n",
       "      <td>0.0</td>\n",
       "    </tr>\n",
       "    <tr>\n",
       "      <th>5</th>\n",
       "      <td>ApplicantIncome</td>\n",
       "      <td>0</td>\n",
       "      <td>0.0</td>\n",
       "    </tr>\n",
       "    <tr>\n",
       "      <th>6</th>\n",
       "      <td>CoapplicantIncome</td>\n",
       "      <td>0</td>\n",
       "      <td>0.0</td>\n",
       "    </tr>\n",
       "    <tr>\n",
       "      <th>7</th>\n",
       "      <td>LoanAmount</td>\n",
       "      <td>0</td>\n",
       "      <td>0.0</td>\n",
       "    </tr>\n",
       "    <tr>\n",
       "      <th>8</th>\n",
       "      <td>Loan_Amount_Term</td>\n",
       "      <td>0</td>\n",
       "      <td>0.0</td>\n",
       "    </tr>\n",
       "    <tr>\n",
       "      <th>9</th>\n",
       "      <td>Credit_History</td>\n",
       "      <td>0</td>\n",
       "      <td>0.0</td>\n",
       "    </tr>\n",
       "    <tr>\n",
       "      <th>10</th>\n",
       "      <td>Property_Area</td>\n",
       "      <td>0</td>\n",
       "      <td>0.0</td>\n",
       "    </tr>\n",
       "    <tr>\n",
       "      <th>11</th>\n",
       "      <td>Loan_Status</td>\n",
       "      <td>0</td>\n",
       "      <td>0.0</td>\n",
       "    </tr>\n",
       "  </tbody>\n",
       "</table>\n",
       "</div>"
      ],
      "text/plain": [
       "               Column  Null Count  Null Percentage\n",
       "0              Gender           0              0.0\n",
       "1             Married           0              0.0\n",
       "2          Dependents           0              0.0\n",
       "3           Education           0              0.0\n",
       "4       Self_Employed           0              0.0\n",
       "5     ApplicantIncome           0              0.0\n",
       "6   CoapplicantIncome           0              0.0\n",
       "7          LoanAmount           0              0.0\n",
       "8    Loan_Amount_Term           0              0.0\n",
       "9      Credit_History           0              0.0\n",
       "10      Property_Area           0              0.0\n",
       "11        Loan_Status           0              0.0"
      ]
     },
     "execution_count": 320,
     "metadata": {},
     "output_type": "execute_result"
    }
   ],
   "source": [
    "get_perct_null_values(df_train)"
   ]
  },
  {
   "cell_type": "markdown",
   "id": "62dbcf6d",
   "metadata": {},
   "source": [
    "Now, we have 0 null values. We'll handle dataset imbalance now."
   ]
  },
  {
   "cell_type": "markdown",
   "id": "391c4ce7",
   "metadata": {},
   "source": [
    "### Tranforming Data"
   ]
  },
  {
   "cell_type": "markdown",
   "id": "7f5a05fc",
   "metadata": {},
   "source": [
    "#### Convert Married and Self Employed to binary columns"
   ]
  },
  {
   "cell_type": "code",
   "execution_count": 321,
   "id": "3776a8c0",
   "metadata": {},
   "outputs": [
    {
     "data": {
      "text/html": [
       "<div>\n",
       "<style scoped>\n",
       "    .dataframe tbody tr th:only-of-type {\n",
       "        vertical-align: middle;\n",
       "    }\n",
       "\n",
       "    .dataframe tbody tr th {\n",
       "        vertical-align: top;\n",
       "    }\n",
       "\n",
       "    .dataframe thead th {\n",
       "        text-align: right;\n",
       "    }\n",
       "</style>\n",
       "<table border=\"1\" class=\"dataframe\">\n",
       "  <thead>\n",
       "    <tr style=\"text-align: right;\">\n",
       "      <th></th>\n",
       "      <th>Gender</th>\n",
       "      <th>Married</th>\n",
       "      <th>Education</th>\n",
       "      <th>Self_Employed</th>\n",
       "      <th>ApplicantIncome</th>\n",
       "      <th>CoapplicantIncome</th>\n",
       "      <th>LoanAmount</th>\n",
       "      <th>Loan_Amount_Term</th>\n",
       "      <th>Credit_History</th>\n",
       "      <th>Loan_Status</th>\n",
       "      <th>Dependents_0</th>\n",
       "      <th>Dependents_1</th>\n",
       "      <th>Dependents_2</th>\n",
       "      <th>Dependents_3+</th>\n",
       "      <th>Property_Area_Rural</th>\n",
       "      <th>Property_Area_Semiurban</th>\n",
       "      <th>Property_Area_Urban</th>\n",
       "    </tr>\n",
       "  </thead>\n",
       "  <tbody>\n",
       "    <tr>\n",
       "      <th>0</th>\n",
       "      <td>1</td>\n",
       "      <td>0</td>\n",
       "      <td>1</td>\n",
       "      <td>0</td>\n",
       "      <td>5849</td>\n",
       "      <td>0.0</td>\n",
       "      <td>143.402027</td>\n",
       "      <td>360.0</td>\n",
       "      <td>1.0</td>\n",
       "      <td>1</td>\n",
       "      <td>1</td>\n",
       "      <td>0</td>\n",
       "      <td>0</td>\n",
       "      <td>0</td>\n",
       "      <td>0</td>\n",
       "      <td>0</td>\n",
       "      <td>1</td>\n",
       "    </tr>\n",
       "    <tr>\n",
       "      <th>1</th>\n",
       "      <td>1</td>\n",
       "      <td>1</td>\n",
       "      <td>1</td>\n",
       "      <td>0</td>\n",
       "      <td>4583</td>\n",
       "      <td>1508.0</td>\n",
       "      <td>128.000000</td>\n",
       "      <td>360.0</td>\n",
       "      <td>1.0</td>\n",
       "      <td>0</td>\n",
       "      <td>0</td>\n",
       "      <td>1</td>\n",
       "      <td>0</td>\n",
       "      <td>0</td>\n",
       "      <td>1</td>\n",
       "      <td>0</td>\n",
       "      <td>0</td>\n",
       "    </tr>\n",
       "    <tr>\n",
       "      <th>2</th>\n",
       "      <td>1</td>\n",
       "      <td>1</td>\n",
       "      <td>1</td>\n",
       "      <td>1</td>\n",
       "      <td>3000</td>\n",
       "      <td>0.0</td>\n",
       "      <td>66.000000</td>\n",
       "      <td>360.0</td>\n",
       "      <td>1.0</td>\n",
       "      <td>1</td>\n",
       "      <td>1</td>\n",
       "      <td>0</td>\n",
       "      <td>0</td>\n",
       "      <td>0</td>\n",
       "      <td>0</td>\n",
       "      <td>0</td>\n",
       "      <td>1</td>\n",
       "    </tr>\n",
       "    <tr>\n",
       "      <th>3</th>\n",
       "      <td>1</td>\n",
       "      <td>1</td>\n",
       "      <td>0</td>\n",
       "      <td>0</td>\n",
       "      <td>2583</td>\n",
       "      <td>2358.0</td>\n",
       "      <td>120.000000</td>\n",
       "      <td>360.0</td>\n",
       "      <td>1.0</td>\n",
       "      <td>1</td>\n",
       "      <td>1</td>\n",
       "      <td>0</td>\n",
       "      <td>0</td>\n",
       "      <td>0</td>\n",
       "      <td>0</td>\n",
       "      <td>0</td>\n",
       "      <td>1</td>\n",
       "    </tr>\n",
       "    <tr>\n",
       "      <th>4</th>\n",
       "      <td>1</td>\n",
       "      <td>0</td>\n",
       "      <td>1</td>\n",
       "      <td>0</td>\n",
       "      <td>6000</td>\n",
       "      <td>0.0</td>\n",
       "      <td>141.000000</td>\n",
       "      <td>360.0</td>\n",
       "      <td>1.0</td>\n",
       "      <td>1</td>\n",
       "      <td>1</td>\n",
       "      <td>0</td>\n",
       "      <td>0</td>\n",
       "      <td>0</td>\n",
       "      <td>0</td>\n",
       "      <td>0</td>\n",
       "      <td>1</td>\n",
       "    </tr>\n",
       "  </tbody>\n",
       "</table>\n",
       "</div>"
      ],
      "text/plain": [
       "   Gender  Married  Education  Self_Employed  ApplicantIncome  \\\n",
       "0       1        0          1              0             5849   \n",
       "1       1        1          1              0             4583   \n",
       "2       1        1          1              1             3000   \n",
       "3       1        1          0              0             2583   \n",
       "4       1        0          1              0             6000   \n",
       "\n",
       "   CoapplicantIncome  LoanAmount  Loan_Amount_Term  Credit_History  \\\n",
       "0                0.0  143.402027             360.0             1.0   \n",
       "1             1508.0  128.000000             360.0             1.0   \n",
       "2                0.0   66.000000             360.0             1.0   \n",
       "3             2358.0  120.000000             360.0             1.0   \n",
       "4                0.0  141.000000             360.0             1.0   \n",
       "\n",
       "   Loan_Status  Dependents_0  Dependents_1  Dependents_2  Dependents_3+  \\\n",
       "0            1             1             0             0              0   \n",
       "1            0             0             1             0              0   \n",
       "2            1             1             0             0              0   \n",
       "3            1             1             0             0              0   \n",
       "4            1             1             0             0              0   \n",
       "\n",
       "   Property_Area_Rural  Property_Area_Semiurban  Property_Area_Urban  \n",
       "0                    0                        0                    1  \n",
       "1                    1                        0                    0  \n",
       "2                    0                        0                    1  \n",
       "3                    0                        0                    1  \n",
       "4                    0                        0                    1  "
      ]
     },
     "execution_count": 321,
     "metadata": {},
     "output_type": "execute_result"
    }
   ],
   "source": [
    "df.head()"
   ]
  },
  {
   "cell_type": "code",
   "execution_count": 322,
   "id": "c90b6a4d",
   "metadata": {},
   "outputs": [],
   "source": [
    "binary_columns_with_yes_no = [\"Married\", \"Self_Employed\"]"
   ]
  },
  {
   "cell_type": "code",
   "execution_count": 323,
   "id": "85dee286",
   "metadata": {},
   "outputs": [],
   "source": [
    "df_train[binary_columns_with_yes_no] = df_train[binary_columns_with_yes_no].apply(lambda col: col.map({\"Yes\": 1, \"No\": 0}))"
   ]
  },
  {
   "cell_type": "markdown",
   "id": "53b44b29",
   "metadata": {},
   "source": [
    "#### Convert gender feature into binary numerical feature"
   ]
  },
  {
   "cell_type": "code",
   "execution_count": 324,
   "id": "cf2d5c50",
   "metadata": {},
   "outputs": [],
   "source": [
    "df_train[\"Gender\"] = df_train[\"Gender\"].map({\"Male\": 1, \"Female\": 0})"
   ]
  },
  {
   "cell_type": "markdown",
   "id": "298475d3",
   "metadata": {},
   "source": [
    "#### Convert Education feature into binary numerical feature"
   ]
  },
  {
   "cell_type": "code",
   "execution_count": 325,
   "id": "5bfa3850",
   "metadata": {},
   "outputs": [
    {
     "data": {
      "text/plain": [
       "Graduate        480\n",
       "Not Graduate    134\n",
       "Name: Education, dtype: int64"
      ]
     },
     "execution_count": 325,
     "metadata": {},
     "output_type": "execute_result"
    }
   ],
   "source": [
    "df_train.Education.value_counts()"
   ]
  },
  {
   "cell_type": "code",
   "execution_count": 326,
   "id": "5ae1fecf",
   "metadata": {},
   "outputs": [],
   "source": [
    "df_train[\"Education\"] = df_train[\"Education\"].map({\"Graduate\": 1, \"Not Graduate\": 0})"
   ]
  },
  {
   "cell_type": "markdown",
   "id": "b8cedf71",
   "metadata": {},
   "source": [
    "#### Handle Dependents and Property area using One hot encoding."
   ]
  },
  {
   "cell_type": "code",
   "execution_count": 327,
   "id": "4855d9cd",
   "metadata": {},
   "outputs": [],
   "source": [
    "categorical_cols = df_train.select_dtypes(include=object).columns"
   ]
  },
  {
   "cell_type": "code",
   "execution_count": 328,
   "id": "07838557",
   "metadata": {},
   "outputs": [
    {
     "data": {
      "text/plain": [
       "Index(['Dependents', 'Property_Area'], dtype='object')"
      ]
     },
     "execution_count": 328,
     "metadata": {},
     "output_type": "execute_result"
    }
   ],
   "source": [
    "categorical_cols"
   ]
  },
  {
   "cell_type": "code",
   "execution_count": 329,
   "id": "e59a0701",
   "metadata": {},
   "outputs": [],
   "source": [
    "df = pd.get_dummies(df_train, columns=categorical_cols, prefix=categorical_cols)"
   ]
  },
  {
   "cell_type": "markdown",
   "id": "70fa254c",
   "metadata": {},
   "source": [
    "### Handle dataset imbalance using SMOTE"
   ]
  },
  {
   "cell_type": "markdown",
   "id": "c3f40190",
   "metadata": {},
   "source": [
    "#### Divide the dataset"
   ]
  },
  {
   "cell_type": "code",
   "execution_count": 330,
   "id": "e14f30e5",
   "metadata": {},
   "outputs": [],
   "source": [
    "X = df.drop(columns=[\"Loan_Status\"])\n",
    "y = df[\"Loan_Status\"]"
   ]
  },
  {
   "cell_type": "markdown",
   "id": "d5baf331",
   "metadata": {},
   "source": [
    "#### Split data into train test"
   ]
  },
  {
   "cell_type": "code",
   "execution_count": 331,
   "id": "8506e52d",
   "metadata": {},
   "outputs": [],
   "source": [
    "X_train, X_test, y_train, y_test = train_test_split(X, y, random_state=9, test_size=.3)"
   ]
  },
  {
   "cell_type": "markdown",
   "id": "227ced2a",
   "metadata": {},
   "source": [
    "We split the data first before using SMOTE to avoid data leakage."
   ]
  },
  {
   "cell_type": "markdown",
   "id": "d5c2e8f7",
   "metadata": {},
   "source": [
    "#### Scale data"
   ]
  },
  {
   "cell_type": "code",
   "execution_count": 336,
   "id": "5490eda6",
   "metadata": {},
   "outputs": [],
   "source": [
    "scaler = StandardScaler()\n",
    "X_train_scaled = scaler.fit_transform(X_train)\n",
    "X_test_scaled = scaler.transform(X_test)"
   ]
  },
  {
   "cell_type": "markdown",
   "id": "fea77cf3",
   "metadata": {},
   "source": [
    "#### Apply SMOTE"
   ]
  },
  {
   "cell_type": "code",
   "execution_count": 341,
   "id": "54eb5a6a",
   "metadata": {},
   "outputs": [],
   "source": [
    "smote = SMOTE(sampling_strategy='auto', random_state=9)\n",
    "X_resampled, y_resampled = smote.fit_resample(X_train_scaled, y_train)"
   ]
  },
  {
   "cell_type": "markdown",
   "id": "a7c1e582",
   "metadata": {},
   "source": [
    "## 5. Model Building"
   ]
  },
  {
   "cell_type": "markdown",
   "id": "35522d1c",
   "metadata": {},
   "source": [
    "### A) Logistic Regression"
   ]
  },
  {
   "cell_type": "code",
   "execution_count": 398,
   "id": "095b1b0c",
   "metadata": {},
   "outputs": [],
   "source": [
    "def log_regression(X_resampled, y_resampled, X_test_scaled, y_test):\n",
    "    log_reg = LogisticRegression(random_state=9)\n",
    "    \n",
    "    param_grid = {\n",
    "        'penalty': ['l1', 'l2'],             \n",
    "        'C': [0.001, 0.01, 0.1, 1, 10],         \n",
    "        'solver': ['liblinear']\n",
    "    }\n",
    "    \n",
    "    grid_search = GridSearchCV(\n",
    "        estimator=log_reg,\n",
    "        param_grid=param_grid,\n",
    "        scoring='accuracy',             \n",
    "        cv=5,                               \n",
    "        verbose=1,\n",
    "        n_jobs=-1\n",
    "    )\n",
    "    \n",
    "    grid_search.fit(X_resampled, y_resampled)\n",
    "    \n",
    "    print(\"Best params for Logistic Regression are: \", grid_search.best_params_)\n",
    "    \n",
    "    best_model = grid_search.best_estimator_\n",
    "    \n",
    "    print(\"The accurcy score for Logistic regreesion is: \", accuracy_score(y_test, best_model.predict(X_test_scaled)))\n",
    "    "
   ]
  },
  {
   "cell_type": "code",
   "execution_count": 399,
   "id": "6ae714a5",
   "metadata": {},
   "outputs": [
    {
     "name": "stdout",
     "output_type": "stream",
     "text": [
      "Fitting 5 folds for each of 10 candidates, totalling 50 fits\n",
      "Best params for Logistic Regression are:  {'C': 0.01, 'penalty': 'l1', 'solver': 'liblinear'}\n",
      "The accurcy score for Logistic regreesion is:  0.7567567567567568\n"
     ]
    }
   ],
   "source": [
    "log_regression(X_resampled, y_resampled, X_test_scaled, y_test)"
   ]
  },
  {
   "cell_type": "markdown",
   "id": "bfbd889d",
   "metadata": {},
   "source": [
    "## B) Decision Tree"
   ]
  },
  {
   "cell_type": "code",
   "execution_count": 396,
   "id": "22054f2b",
   "metadata": {},
   "outputs": [],
   "source": [
    "def decission_tree(X_resampled, y_resampled, X_test_scaled, y_test):\n",
    "    \n",
    "    decision_tree = DecisionTreeClassifier(random_state=9)\n",
    "    \n",
    "    param_grid = {\n",
    "        'criterion': ['gini', 'entropy'],    \n",
    "        'max_depth': [None, 5, 10, 15, 20],  \n",
    "        'min_samples_split': [2, 5, 10, 20], \n",
    "        'min_samples_leaf': [1, 2, 4, 8]     \n",
    "    }\n",
    "    \n",
    "    grid_search = GridSearchCV(\n",
    "        estimator=decision_tree,\n",
    "        param_grid=param_grid,\n",
    "        scoring='accuracy',             \n",
    "        cv=5,                            \n",
    "        verbose=1,                            \n",
    "        n_jobs=-1                            \n",
    "    )\n",
    "    \n",
    "    grid_search.fit(X_resampled, y_resampled)\n",
    "    \n",
    "    best_params = grid_search.best_params_\n",
    "    best_score = grid_search.best_score_\n",
    "    \n",
    "    print(f\"Best Hyperparameters: {best_params}\")\n",
    "    print(f\"Best Cross-Validation Score: {best_score:.4f}\")\n",
    "    \n",
    "    best_model = grid_search.best_estimator_\n",
    "    \n",
    "    y_pred = best_model.predict(X_test_scaled)\n",
    "\n",
    "    print(\"\\nClassification Report on Test Data:\")\n",
    "    print(classification_report(y_test, y_pred))\n",
    "    \n",
    "    print(accuracy_score(y_test, y_pred))\n"
   ]
  },
  {
   "cell_type": "code",
   "execution_count": 397,
   "id": "f268fba7",
   "metadata": {},
   "outputs": [
    {
     "name": "stdout",
     "output_type": "stream",
     "text": [
      "Fitting 5 folds for each of 160 candidates, totalling 800 fits\n",
      "Best Hyperparameters: {'criterion': 'gini', 'max_depth': 5, 'min_samples_leaf': 8, 'min_samples_split': 20}\n",
      "Best Cross-Validation Score: 0.7169\n",
      "\n",
      "Classification Report on Test Data:\n",
      "              precision    recall  f1-score   support\n",
      "\n",
      "           0       0.56      0.38      0.45        65\n",
      "           1       0.71      0.83      0.77       120\n",
      "\n",
      "    accuracy                           0.68       185\n",
      "   macro avg       0.63      0.61      0.61       185\n",
      "weighted avg       0.66      0.68      0.66       185\n",
      "\n",
      "0.6756756756756757\n"
     ]
    }
   ],
   "source": [
    "decission_tree(X_resampled, y_resampled, X_test_scaled, y_test)"
   ]
  },
  {
   "cell_type": "markdown",
   "id": "45e17190",
   "metadata": {},
   "source": [
    "## C) SVM"
   ]
  },
  {
   "cell_type": "code",
   "execution_count": 407,
   "id": "db607483",
   "metadata": {},
   "outputs": [],
   "source": [
    "def svm_classifer(X_resampled, y_resampled, X_test_scaled, y_test):\n",
    "    \n",
    "    svm_classifier = SVC()\n",
    "    \n",
    "\n",
    "    \n",
    "    param_grid = {\n",
    "        'C': [0.001, 0.01, 0.1, 1, 10, 100],            # Regularization parameter\n",
    "        'kernel': ['linear', 'rbf', 'poly', 'sigmoid'],  # Kernel function\n",
    "        'degree': [2, 3, 4, 5],                        # Degree of the polynomial kernel (for 'poly' kernel)\n",
    "        'gamma': ['scale', 'auto', 0.001, 0.01, 0.1, 1]  # Kernel coefficient\n",
    "    }\n",
    "\n",
    "    \n",
    "    grid_search = GridSearchCV(\n",
    "        estimator=svm_classifier,\n",
    "        param_grid=param_grid,\n",
    "        scoring='accuracy',\n",
    "        cv=5,                        \n",
    "        verbose=1,\n",
    "        n_jobs=-1                      \n",
    "    )\n",
    "    \n",
    "    grid_search.fit(X_resampled, y_resampled)\n",
    "    \n",
    "    best_params = grid_search.best_params_\n",
    "    best_model = grid_search.best_estimator_\n",
    "    \n",
    "    y_pred = best_model.predict(X_test_scaled)\n",
    "    \n",
    "    accuracy = accuracy_score(y_test, y_pred)\n",
    "    classification_report_str = classification_report(y_test, y_pred)\n",
    "    \n",
    "    print(f\"Best Hyperparameters: {best_params}\")\n",
    "    print(f\"Accuracy: {accuracy:.4f}\")\n",
    "    print(\"\\nClassification Report:\")\n",
    "    print(classification_report_str)"
   ]
  },
  {
   "cell_type": "code",
   "execution_count": 408,
   "id": "835271c7",
   "metadata": {},
   "outputs": [
    {
     "name": "stdout",
     "output_type": "stream",
     "text": [
      "Fitting 5 folds for each of 576 candidates, totalling 2880 fits\n",
      "Best Hyperparameters: {'C': 1, 'degree': 2, 'gamma': 1, 'kernel': 'rbf'}\n",
      "Accuracy: 0.6270\n",
      "\n",
      "Classification Report:\n",
      "              precision    recall  f1-score   support\n",
      "\n",
      "           0       0.46      0.32      0.38        65\n",
      "           1       0.68      0.79      0.73       120\n",
      "\n",
      "    accuracy                           0.63       185\n",
      "   macro avg       0.57      0.56      0.56       185\n",
      "weighted avg       0.60      0.63      0.61       185\n",
      "\n"
     ]
    }
   ],
   "source": [
    "svm_classifer(X_resampled, y_resampled, X_test_scaled, y_test)"
   ]
  }
 ],
 "metadata": {
  "kernelspec": {
   "display_name": "Python 3 (ipykernel)",
   "language": "python",
   "name": "python3"
  },
  "language_info": {
   "codemirror_mode": {
    "name": "ipython",
    "version": 3
   },
   "file_extension": ".py",
   "mimetype": "text/x-python",
   "name": "python",
   "nbconvert_exporter": "python",
   "pygments_lexer": "ipython3",
   "version": "3.11.4"
  }
 },
 "nbformat": 4,
 "nbformat_minor": 5
}
